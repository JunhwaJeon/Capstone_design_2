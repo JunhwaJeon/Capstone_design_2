{
 "cells": [
  {
   "cell_type": "code",
   "execution_count": 1,
   "metadata": {},
   "outputs": [
    {
     "name": "stdout",
     "output_type": "stream",
     "text": [
      "적분 결과: 2.1365194472351333e-57\n"
     ]
    }
   ],
   "source": [
    "import numpy as np\n",
    "from scipy import integrate, special\n",
    "\n",
    "# 파라미터 정의\n",
    "mu = 400  # 예시 값, 필요에 따라 조정하세요\n",
    "k = 1.0   # 예시 값, 필요에 따라 조정하세요\n",
    "nt = 3.0  # 예시 값, 필요에 따라 조정하세요\n",
    "\n",
    "def integrand(z, mu, k, nt):\n",
    "    # 상위 불완전 감마 함수와 하위 불완전 감마 함수 계산\n",
    "    gamma_upper = special.gammaincc(mu + 1/k, z)  # 상위 불완전 감마 함수 (complemented incomplete gamma)\n",
    "    gamma_lower = special.gammainc(mu, z)         # 하위 불완전 감마 함수\n",
    "    \n",
    "    # 적분 함수 정의\n",
    "    return gamma_upper * (gamma_lower ** (nt - 2))\n",
    "\n",
    "# 적분 계산\n",
    "result, error = integrate.quad(integrand, 0, np.inf, args=(mu, k, nt))\n",
    "\n",
    "# 결과 출력\n",
    "print(\"적분 결과:\", result)"
   ]
  },
  {
   "cell_type": "code",
   "execution_count": 2,
   "metadata": {},
   "outputs": [
    {
     "data": {
      "text/plain": [
       "inf"
      ]
     },
     "execution_count": 2,
     "metadata": {},
     "output_type": "execute_result"
    }
   ],
   "source": [
    "special.gamma(400)"
   ]
  },
  {
   "cell_type": "code",
   "execution_count": 3,
   "metadata": {},
   "outputs": [],
   "source": [
    "import mpmath\n",
    "import math\n",
    "from scipy import special"
   ]
  },
  {
   "cell_type": "code",
   "execution_count": 11,
   "metadata": {},
   "outputs": [
    {
     "name": "stdout",
     "output_type": "stream",
     "text": [
      "inf\n",
      "1.6008630711656e+866\n"
     ]
    }
   ],
   "source": [
    "a=mpmath.gamma(400)\n",
    "print(float(a))\n",
    "print(a)"
   ]
  },
  {
   "cell_type": "code",
   "execution_count": 13,
   "metadata": {},
   "outputs": [
    {
     "ename": "OverflowError",
     "evalue": "math range error",
     "output_type": "error",
     "traceback": [
      "\u001b[1;31m---------------------------------------------------------------------------\u001b[0m",
      "\u001b[1;31mOverflowError\u001b[0m                             Traceback (most recent call last)",
      "Cell \u001b[1;32mIn[13], line 1\u001b[0m\n\u001b[1;32m----> 1\u001b[0m math\u001b[38;5;241m.\u001b[39mexp(special\u001b[38;5;241m.\u001b[39mgammaln(\u001b[38;5;241m400\u001b[39m))\n",
      "\u001b[1;31mOverflowError\u001b[0m: math range error"
     ]
    }
   ],
   "source": [
    "math.exp(special.gammaln(400))"
   ]
  },
  {
   "cell_type": "code",
   "execution_count": 18,
   "metadata": {},
   "outputs": [
    {
     "name": "stdout",
     "output_type": "stream",
     "text": [
      "적분 결과: 87928213.58583432\n"
     ]
    }
   ],
   "source": [
    "import numpy as np\n",
    "import mpmath\n",
    "import sys\n",
    "\n",
    "# 최대 재귀 깊이 설정\n",
    "sys.setrecursionlimit(2000)\n",
    "\n",
    "# 파라미터 정의\n",
    "mu = 48.411  # 예시 값, 필요에 따라 조정하세요\n",
    "k = 0.2347  # 예시 값, 필요에 따라 조정하세요\n",
    "nt = 32  # 예시 값, 필요에 따라 조정하세요\n",
    "nr = 12\n",
    "# 적분 함수 정의 (치환 적용)\n",
    "def integrand(x, mu, k, nt):\n",
    "    # 정규화된 불완전 감마 함수 및 파라미터 계산\n",
    "    gamma_upper_mu_k = mpmath.gammainc(mu + 1/k, x, regularized=True)  # 상위 불완전 감마 함수 (정규화된 형태)\n",
    "    gamma_lower_mu = mpmath.gammainc(mu, 0, x, regularized=True)  # 하위 불완전 감마 함수 (정규화된 형태)\n",
    "    \n",
    "    # 정규화된 하위 불완전 감마 함수의 편미분 계산 (고정밀도로 계산)\n",
    "    gamma_lower_mu_derivative = (x ** (mu - 1)) * mpmath.exp(-x) / mpmath.gamma(mu)\n",
    "    \n",
    "    # 정규화된 하위 불완전 감마 함수의 거듭제곱\n",
    "    gamma_lower_mu_normalized = gamma_lower_mu\n",
    "    \n",
    "    # 적분 함수 정의\n",
    "    return gamma_upper_mu_k * (gamma_lower_mu_normalized ** (nt - 2)) * gamma_lower_mu_derivative\n",
    "\n",
    "# 적분 계산 (mpmath.quad로 고정밀도 적분 수행, 최대 반복 깊이 조절)\n",
    "mpmath.mp.dps = 50  # 고정밀도 설정\n",
    "mpmath.mp.pretty = True\n",
    "\n",
    "# 무한대 대신 큰 값으로 적분 구간 설정\n",
    "large_value = mpmath.inf\n",
    "\n",
    "try:\n",
    "    result = mpmath.quad(lambda x: integrand(x, mu, k, nt), [0, large_value], maxdegree=15)\n",
    "except RecursionError:\n",
    "    print(\"적분 수행 중 최대 재귀 깊이를 초과했습니다. 매개변수 값을 조정하거나 적분 함수의 복잡성을 줄여 보세요.\")\n",
    "    result = None\n",
    "\n",
    "# 정규화된 상수 포함한 최종 결과 계산\n",
    "if result is not None:\n",
    "    final_result = 2*special.gamma(nr+1)*(nt - 1) * result\n",
    "    # 결과 출력\n",
    "    print(\"적분 결과:\", float(final_result))\n",
    "else:\n",
    "    print(\"적분 실패\")"
   ]
  },
  {
   "cell_type": "code",
   "execution_count": null,
   "metadata": {},
   "outputs": [],
   "source": []
  }
 ],
 "metadata": {
  "kernelspec": {
   "display_name": "base",
   "language": "python",
   "name": "python3"
  },
  "language_info": {
   "codemirror_mode": {
    "name": "ipython",
    "version": 3
   },
   "file_extension": ".py",
   "mimetype": "text/x-python",
   "name": "python",
   "nbconvert_exporter": "python",
   "pygments_lexer": "ipython3",
   "version": "3.11.4"
  }
 },
 "nbformat": 4,
 "nbformat_minor": 2
}
